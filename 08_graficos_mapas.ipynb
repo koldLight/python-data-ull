{
 "cells": [
  {
   "cell_type": "code",
   "execution_count": null,
   "metadata": {},
   "outputs": [],
   "source": [
    "# setup en google colab\n",
    "# descoméntalo si estás en dicho entorno\n",
    "# !git clone https://github.com/koldLight/python-data-ull\n",
    "# %cd python-data-ull"
   ]
  },
  {
   "cell_type": "markdown",
   "metadata": {},
   "source": [
    "# Gráficos geoespaciales: mapas\n",
    "\n",
    "Habitualmente necesitamos pintar datos que tienen una referencia geoespacial, por ejemplo:\n",
    "\n",
    "* Puntos en mapas\n",
    "* Rutas\n",
    "* Estados, provincias, países u otras divisiones administrativas de territorios\n",
    "\n",
    "Para hacerlo, podemos utilizar la librería `folium`, que permite utilizar [`leaflet`](https://leafletjs.com/) dentro de python.\n",
    "\n",
    "Puedes consultar la documentación de folium [aquí](https://python-visualization.github.io/folium/)."
   ]
  },
  {
   "cell_type": "markdown",
   "metadata": {},
   "source": [
    "Si te falla el `import folium` es que no tienes la librería instalada. Para hacerlo, corre desde tu terminal:\n",
    "\n",
    "```\n",
    "# si usas conda (gestor de paquetes de Anaconda)\n",
    "conda update conda\n",
    "conda install folium\n",
    "\n",
    "# si usas pip\n",
    "pip install folium\n",
    "```\n",
    "\n",
    "Una vez lo instalas, tendrás que reiniciar el kernel de jupyter antes de volver a probar. Puedes hacerlo desde este notebook en el menú Kernel / Restart.\n",
    "\n",
    "Si estás usando anaconda, también puedes descomentar las siguientes líneas (quita los `#` del principio) y ejecutarlas para instalarlo. Es equivalente a abrir la terminal y lanzarlo desde ahí."
   ]
  },
  {
   "cell_type": "code",
   "execution_count": 2,
   "metadata": {},
   "outputs": [
    {
     "name": "stdout",
     "output_type": "stream",
     "text": [
      "zsh:1: command not found: conda\n",
      "zsh:1: command not found: conda\n"
     ]
    }
   ],
   "source": [
    "!conda update -y conda\n",
    "!conda install -y folium"
   ]
  },
  {
   "cell_type": "code",
   "execution_count": 1,
   "metadata": {},
   "outputs": [],
   "source": [
    "import folium\n",
    "import pandas as pd"
   ]
  },
  {
   "cell_type": "markdown",
   "metadata": {},
   "source": [
    "## Un primer mapa\n",
    "\n",
    "Para pintar un mapa, llamamos a folium con las opciones que queramos. Por ejemplo, vamos a pintar un mapa de la zona de La Puntilla, Las Palmas de Gran Canaria"
   ]
  },
  {
   "cell_type": "code",
   "execution_count": null,
   "metadata": {},
   "outputs": [],
   "source": [
    "puntilla = [28.1464, -15.4293]\n",
    "folium.Map(location=puntilla, zoom_start=14)"
   ]
  },
  {
   "cell_type": "markdown",
   "metadata": {},
   "source": [
    "Las imágenes de las calles, el mapa base, se denominan `tiles`. Podemos personalizarlo con el parámetro `tiles`. Uno que suele quedar bastante bien para pintar datos encima es `cartodbpositron`:"
   ]
  },
  {
   "cell_type": "code",
   "execution_count": null,
   "metadata": {},
   "outputs": [],
   "source": [
    "folium.Map(location=puntilla, zoom_start=15, tiles='cartodbpositron')"
   ]
  },
  {
   "cell_type": "markdown",
   "metadata": {},
   "source": [
    "Puedes echar un vistazo a un listado mayor de tiles disponibles [aquí](https://leaflet-extras.github.io/leaflet-providers/preview/)."
   ]
  },
  {
   "cell_type": "markdown",
   "metadata": {},
   "source": [
    "## Marcadores\n",
    "\n",
    "Para añadir una localización, añadimos uno o varios marcadores al mapa. Sobre ellos, podemos personalizar:\n",
    "\n",
    "* Localización\n",
    "* Textos en tooltip o popup\n",
    "* Estilo (forma, color, ...)\n",
    "\n",
    "Mira más opciones en la [documentación](https://python-visualization.github.io/folium/modules.html#folium.map.Marker)."
   ]
  },
  {
   "cell_type": "code",
   "execution_count": null,
   "metadata": {},
   "outputs": [],
   "source": [
    "puntilla = [28.1464, -15.4293]\n",
    "m = folium.Map(location=puntilla, zoom_start=15)\n",
    "folium.Marker([28.1464, -15.4293], tooltip='Mercado del puerto').add_to(m)\n",
    "folium.Marker([28.1509,-15.43], tooltip='Plaza del pueblo').add_to(m)\n",
    "m"
   ]
  },
  {
   "cell_type": "markdown",
   "metadata": {},
   "source": [
    "Vamos a añadir una serie de localizaciones a nuestro mapa. En `dat/` tenemos disponibles las localizaciones de los apartamentos de AirBnB en Madrid, descargados de [Inside AirBnB](http://insideairbnb.com/)."
   ]
  },
  {
   "cell_type": "code",
   "execution_count": null,
   "metadata": {},
   "outputs": [],
   "source": [
    "listings = pd.read_csv('dat/listings.csv')\n",
    "listings.head()"
   ]
  },
  {
   "cell_type": "code",
   "execution_count": null,
   "metadata": {},
   "outputs": [],
   "source": [
    "# Mi mapa base sobre Madrid\n",
    "map_madrid = folium.Map(location=[40.42, -3.7], zoom_start=13, tiles='cartodbpositron')\n",
    "\n",
    "# Cojo 500 apartamentos (la muestra completa es muy grande)\n",
    "listings_sample = listings.sample(500, random_state=1234)\n",
    "\n",
    "# Los añado a mi mapa\n",
    "# Voy a usar CircleMarker en lugar de Marker, porque me deja personalizar el color más fácilmente\n",
    "listings_sample.apply(\n",
    "    lambda row: folium.CircleMarker([row.latitude, row.longitude], tooltip=row.room_type, radius=3).add_to(map_madrid),\n",
    "    axis=1\n",
    ")\n",
    "map_madrid"
   ]
  },
  {
   "cell_type": "markdown",
   "metadata": {},
   "source": [
    "#### Ejercicio\n",
    "\n",
    "Personaliza el mapa anterior para que:\n",
    "\n",
    "* El tooltip (texto que sale al pasar el ratón por encima) sea el precio por noche, con el símbolo del € al final de la cantidad.\n",
    "* El mapa base (tile) sea `cartodbpositron`.\n",
    "* El color del marcador diferencie por tipo de habitación (`room_type`).\n",
    "\n",
    "Nota: primero intenta hacer los dos primeros puntos, que son más sencillos. El tema del color tendrás que investigar en la documentación y/o en stackoverflow cómo conseguirlo."
   ]
  },
  {
   "cell_type": "code",
   "execution_count": null,
   "metadata": {},
   "outputs": [],
   "source": []
  },
  {
   "cell_type": "markdown",
   "metadata": {},
   "source": [
    "## Heatmaps\n",
    "\n",
    "Son útiles para representar densidades.\n",
    "\n",
    "Vamos a utilizarlo para ver cuál es la concentración de apartamentos por zona.\n",
    "\n",
    "Si consultamos la [documentación](https://python-visualization.github.io/folium/plugins.html#folium.plugins.HeatMap), vemos que necesita un parámetro `data` que debe ser una lista de `[lat, lng]`, pero también acepta un dataframe de pandas con 2 columnas."
   ]
  },
  {
   "cell_type": "code",
   "execution_count": null,
   "metadata": {},
   "outputs": [],
   "source": [
    "from folium.plugins import HeatMap"
   ]
  },
  {
   "cell_type": "code",
   "execution_count": null,
   "metadata": {},
   "outputs": [],
   "source": [
    "m = folium.Map(location=[40.42, -3.7], zoom_start=11, tiles='cartodbpositron')\n",
    "heatmap = HeatMap(data=listings[[\"latitude\", \"longitude\"]], radius=15).add_to(m)\n",
    "m"
   ]
  },
  {
   "cell_type": "markdown",
   "metadata": {},
   "source": [
    "## Mapa de coropletas\n",
    "\n",
    "Son mapas sobre los que coloreamos las regiones que contiene en base a la propiedad que queremos explicar.\n",
    "\n",
    "Vamos a pintar un mapa que represente el número de alojamientos por cada barrio."
   ]
  },
  {
   "cell_type": "code",
   "execution_count": null,
   "metadata": {},
   "outputs": [],
   "source": [
    "num_per_area = listings.groupby('neighbourhood').id.count().reset_index()\n",
    "num_per_area = num_per_area.rename(columns={\"id\": \"num\"})\n",
    "num_per_area.head()"
   ]
  },
  {
   "cell_type": "code",
   "execution_count": null,
   "metadata": {},
   "outputs": [],
   "source": [
    "# Incializamos el mapa\n",
    "m = folium.Map(location=[40.42, -3.7], zoom_start=11, tiles='cartodbpositron')\n",
    "\n",
    "# Add the color for the chloropleth:\n",
    "folium.Choropleth(\n",
    "    geo_data='dat/neighbourhoods.geojson',\n",
    "    data=num_per_area,\n",
    "    columns=['neighbourhood', 'num'],\n",
    "    key_on='feature.properties.neighbourhood',\n",
    "    fill_color='YlGn',\n",
    ").add_to(m)\n",
    "\n",
    "m"
   ]
  },
  {
   "cell_type": "markdown",
   "metadata": {},
   "source": [
    "#### Ejercicio\n",
    "\n",
    "Modifica el mapa anterior para definir los límites de cada color y ver mejor el detalle. P.e. para que de 0 a 100 se vea en una intensidad, de 100 a 500 en otra, de 500 a 1000 y de 1000 a 3000 en otra."
   ]
  },
  {
   "cell_type": "code",
   "execution_count": null,
   "metadata": {},
   "outputs": [],
   "source": []
  },
  {
   "cell_type": "markdown",
   "metadata": {},
   "source": [
    "#### Ejercicio\n",
    "\n",
    "Pinta un mapa de coropletas sobre los municipios de las Islas Canarias, coloreado según su población. Tienes dos CSVs para hacerlo:\n",
    "\n",
    "* `dat/pob_canarias.csv`: contiene la población para cada uno de los municipios de Canarias\n",
    "* `dat/mun_canarias.geojson`: contiene los polígonos de cada uno de los municipios\n",
    "\n",
    "Opcionalmente, pon un tooltip con el nombre y la población, que se vea al pasar el ratón por encima de cada uno de los municipios."
   ]
  },
  {
   "cell_type": "code",
   "execution_count": null,
   "metadata": {},
   "outputs": [],
   "source": []
  },
  {
   "cell_type": "markdown",
   "metadata": {},
   "source": [
    "## Ejercicios con la API de citybik\n",
    "\n",
    "Consulta la documentación de la API de [citybik](http://api.citybik.es/v2/). Quizás quieras repasar también el notebook dedicado a las APIs."
   ]
  },
  {
   "cell_type": "markdown",
   "metadata": {},
   "source": [
    "### Ejercicio: get_networks\n",
    "\n",
    "Crea una función `get_networks()` que devuelva todas las redes de bicis disponibles."
   ]
  },
  {
   "cell_type": "code",
   "execution_count": null,
   "metadata": {},
   "outputs": [],
   "source": []
  },
  {
   "cell_type": "markdown",
   "metadata": {},
   "source": [
    "### Ejercicio: pinta las estaciones en un mapa del mundo\n",
    "\n",
    "Pinta en un mapa todas las redes de bicis disponibles en la localización en la que se encuentran. Además, añade un tooltip con el id de la red."
   ]
  },
  {
   "cell_type": "code",
   "execution_count": null,
   "metadata": {},
   "outputs": [],
   "source": []
  },
  {
   "cell_type": "markdown",
   "metadata": {},
   "source": [
    "### Ejercicio: get_stations\n",
    "\n",
    "Crea una función `get_stations(network_id)` que:\n",
    "\n",
    "* Acepte un argumento `network_id` con el identificador de la red. P.e. podría tomar el valor `sitycleta-las-palmas-las-palmas-de-gran-canaria`, `bicimad`, `bicing`, `velib`, ...\n",
    "* Devuelva una lista con las estaciones (y su información) de la red especificada\n",
    "\n",
    "_Nota_: puedes concatenar cadenas de texto con `+`. P.e.: `'hola' + ' mundo'`. O usando `f'{var1} {var2}'`.\n",
    "\n",
    "_Opcional 1_: modifica la función `get_stations(network_id)` para que, si introduces una red que no existe, devuelva una lista vacía en lugar de un error no controlado.\n",
    "\n",
    "_Opcional 2_: modifica la función `get_stations` para que, además del parámetro actual, tenga un parámetro adicional opcional, `min_free_bikes`: número mínimo de bicis disponibles. La función deberá devolver únicamente las estaciones que cumplan la condición pasada en este parámetro. El valor por defecto de este parámetro es 0."
   ]
  },
  {
   "cell_type": "code",
   "execution_count": null,
   "metadata": {},
   "outputs": [],
   "source": []
  },
  {
   "cell_type": "markdown",
   "metadata": {},
   "source": [
    "### Ejercicio: pintar estaciones de una red\n",
    "\n",
    "Pinta en un mapa las estaciones de una red de bicis de tu interés, p.e. `sitycleta-las-palmas-las-palmas-de-gran-canaria` o `lovesharing-canary-islands-gran-canaria`. En el tooltip, pon el nombre de la estación.\n",
    "\n",
    "Opcional:\n",
    "\n",
    "* Pinta el marcador en rojo si hay menos de un 20% de las bicis disponibles en este momento, en naranja si está entre el 20% - 50%, y verde si hay más (tip: usa mejor `CircleMarker` para personalizar el color).\n",
    "* Agrega al tooltip más información de tu interés."
   ]
  },
  {
   "cell_type": "code",
   "execution_count": null,
   "metadata": {},
   "outputs": [],
   "source": []
  },
  {
   "cell_type": "markdown",
   "metadata": {},
   "source": [
    "### Ejercicio\n",
    "\n",
    "Pinta en un heatmap las estaciones de una red de tu interés sobre su ciudad, para ver dónde hay mayor concentración de estas."
   ]
  },
  {
   "cell_type": "code",
   "execution_count": null,
   "metadata": {},
   "outputs": [],
   "source": []
  },
  {
   "cell_type": "code",
   "execution_count": null,
   "metadata": {},
   "outputs": [],
   "source": []
  }
 ],
 "metadata": {
  "kernelspec": {
   "display_name": "libropython",
   "language": "python",
   "name": "libropython"
  },
  "language_info": {
   "codemirror_mode": {
    "name": "ipython",
    "version": 3
   },
   "file_extension": ".py",
   "mimetype": "text/x-python",
   "name": "python",
   "nbconvert_exporter": "python",
   "pygments_lexer": "ipython3",
   "version": "3.12.1"
  }
 },
 "nbformat": 4,
 "nbformat_minor": 4
}
