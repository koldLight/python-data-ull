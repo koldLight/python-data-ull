{
 "cells": [
  {
   "cell_type": "markdown",
   "id": "3ebf1916",
   "metadata": {},
   "source": [
    "## Setup en Google Colab"
   ]
  },
  {
   "cell_type": "code",
   "execution_count": null,
   "id": "ce5563b2",
   "metadata": {
    "scrolled": true
   },
   "outputs": [],
   "source": [
    "!git clone https://github.com/koldLight/python-data-ull\n",
    "%cd python-data-ull"
   ]
  },
  {
   "cell_type": "code",
   "execution_count": null,
   "id": "be54001e",
   "metadata": {},
   "outputs": [],
   "source": []
  }
 ],
 "metadata": {
  "kernelspec": {
   "display_name": "libropython",
   "language": "python",
   "name": "libropython"
  },
  "language_info": {
   "codemirror_mode": {
    "name": "ipython",
    "version": 3
   },
   "file_extension": ".py",
   "mimetype": "text/x-python",
   "name": "python",
   "nbconvert_exporter": "python",
   "pygments_lexer": "ipython3",
   "version": "3.12.1"
  }
 },
 "nbformat": 4,
 "nbformat_minor": 5
}
