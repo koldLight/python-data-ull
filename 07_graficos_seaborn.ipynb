{
 "cells": [
  {
   "cell_type": "code",
   "execution_count": null,
   "metadata": {},
   "outputs": [],
   "source": [
    "# setup en google colab\n",
    "# coméntalo y no lo ejecutes si lo tienes montado en local o en otro entorno\n",
    "!git clone https://github.com/koldLight/python-data-ull\n",
    "%cd python-data-ull"
   ]
  },
  {
   "cell_type": "markdown",
   "metadata": {},
   "source": [
    "# Gráficos con seaborn\n",
    "\n",
    "Vamos a profundizar más en el uso de esta librería. Para la mayoría de los ejemplos, usaremos el dataset de diamantes.\n",
    "\n",
    "Puedes consultar la documentación completa de seaborn [aquí](https://seaborn.pydata.org/). O un resumen de las funciones más importantes [aquí](https://s3.amazonaws.com/assets.datacamp.com/blog_assets/Python_Seaborn_Cheat_Sheet.pdf)"
   ]
  },
  {
   "cell_type": "code",
   "execution_count": null,
   "metadata": {},
   "outputs": [],
   "source": [
    "import seaborn as sns\n",
    "import matplotlib.pyplot as plt"
   ]
  },
  {
   "cell_type": "code",
   "execution_count": null,
   "metadata": {},
   "outputs": [],
   "source": [
    "# Esto solo me sirve para que se vean algo más grandes los gráficos\n",
    "# en el notebook\n",
    "\n",
    "from matplotlib import rcParams\n",
    "\n",
    "rcParams['figure.figsize'] = 14, 10\n",
    "sns.set_context('talk')"
   ]
  },
  {
   "cell_type": "code",
   "execution_count": null,
   "metadata": {},
   "outputs": [],
   "source": [
    "diamonds = sns.load_dataset('diamonds')"
   ]
  },
  {
   "cell_type": "markdown",
   "metadata": {},
   "source": [
    "Para que los gráficos sean más rápidos en cargar, y algunos ejemplos más claros, cojo solamente un subconjunto de los datos (2000 filas de unas 54000)"
   ]
  },
  {
   "cell_type": "code",
   "execution_count": null,
   "metadata": {},
   "outputs": [],
   "source": [
    "dat = diamonds.sample(2000, random_state=1234).copy()\n",
    "dat.head()"
   ]
  },
  {
   "cell_type": "markdown",
   "metadata": {},
   "source": [
    "## Scatter plot\n",
    "\n",
    "Para pintar una característica frente a otra en un [scatterplot](https://seaborn.pydata.org/generated/seaborn.scatterplot.html), p.e. precio vs quilates:"
   ]
  },
  {
   "cell_type": "code",
   "execution_count": null,
   "metadata": {},
   "outputs": [],
   "source": [
    "out = sns.scatterplot(x='price', y='carat', data=dat)"
   ]
  },
  {
   "cell_type": "markdown",
   "metadata": {},
   "source": [
    "Consultando la documentación, vemos que podemos cambiar diferentes propiedades de este scatteplot. Vamos a cambiar el tamaño de los puntos según la propiedad `x` (longitud en mm)."
   ]
  },
  {
   "cell_type": "code",
   "execution_count": null,
   "metadata": {},
   "outputs": [],
   "source": [
    "out = sns.scatterplot(x='price', y='carat', size='x', data=dat)"
   ]
  },
  {
   "cell_type": "markdown",
   "metadata": {},
   "source": [
    "#### Ejercicio\n",
    "\n",
    "Cambia la forma de los puntos según la propiedad `clarity` sobre el scatterplot básico."
   ]
  },
  {
   "cell_type": "code",
   "execution_count": null,
   "metadata": {},
   "outputs": [],
   "source": []
  },
  {
   "cell_type": "markdown",
   "metadata": {},
   "source": [
    "#### Ejercicio\n",
    "\n",
    "Colorea los puntos según la propiedad `cut` sobre el scatterplot básico que acabamos de mostrar.\n",
    "\n",
    "Una vez hecho, ordena en la leyenda los cortes de forma ascendente por calidad, es decir, 'Fair', 'Good', 'Very Good', 'Premium', 'Ideal'."
   ]
  },
  {
   "cell_type": "code",
   "execution_count": null,
   "metadata": {},
   "outputs": [],
   "source": []
  },
  {
   "cell_type": "markdown",
   "metadata": {},
   "source": [
    "#### Ejercicio\n",
    "\n",
    "Prueba a colorear los puntos ahora por una propiedad numérica. ¿Cuál es la diferencia que observas en la paleta de colores con respecto a `cut`, que es categórica?"
   ]
  },
  {
   "cell_type": "code",
   "execution_count": null,
   "metadata": {},
   "outputs": [],
   "source": []
  },
  {
   "cell_type": "markdown",
   "metadata": {},
   "source": [
    "Aunque este comportamiento por defecto suele ser el adecuado, en este caso concreto, no lo es, ya que \"Fair, Good, Very Good, Premium, Ideal\" no es una categórica, sino que tiene un orden implícito; su naturaleza es secuencial. Podemos sobrescribir la paleta para que sea coherente con esto:"
   ]
  },
  {
   "cell_type": "code",
   "execution_count": null,
   "metadata": {},
   "outputs": [],
   "source": [
    "cut_order = ['Fair', 'Good', 'Very Good', 'Premium', 'Ideal']\n",
    "out = sns.scatterplot(data=dat, x='price', y='carat', hue='cut', hue_order=cut_order, palette=\"YlGnBu\")"
   ]
  },
  {
   "cell_type": "markdown",
   "metadata": {},
   "source": [
    "Si queremos utilizar un scatter plot con una variable categórica, podemos usar efecto `jitter` sobre los puntos que irían unos encima de otros (es decir, aplicar un poco de desplazamiento para ver nubes de puntos). Para hacer esto, tenemos `stripplot` y `swarmplot`. Como ejercicio, descubre la diferencia entre ambos métodos.\n",
    "\n",
    "Un ejemplo:"
   ]
  },
  {
   "cell_type": "code",
   "execution_count": null,
   "metadata": {},
   "outputs": [],
   "source": [
    "out = sns.stripplot(x='cut', y='price', data=dat, alpha=.3)"
   ]
  },
  {
   "cell_type": "markdown",
   "metadata": {},
   "source": [
    "#### Ejercicio\n",
    "\n",
    "Pinta este mismo gráfico con `scatterplot` y `swarmplot`. Explica las diferencias."
   ]
  },
  {
   "cell_type": "code",
   "execution_count": null,
   "metadata": {},
   "outputs": [],
   "source": []
  },
  {
   "cell_type": "code",
   "execution_count": null,
   "metadata": {},
   "outputs": [],
   "source": []
  },
  {
   "cell_type": "markdown",
   "metadata": {},
   "source": [
    "#### Ejercicio\n",
    "\n",
    "* Pinta el mismo gráfico con _violines_ en lugar de con puntos\n",
    "* Ídem con boxplots\n",
    "\n",
    "¿Cuál te parece más intuitivo?"
   ]
  },
  {
   "cell_type": "code",
   "execution_count": null,
   "metadata": {},
   "outputs": [],
   "source": []
  },
  {
   "cell_type": "code",
   "execution_count": null,
   "metadata": {},
   "outputs": [],
   "source": []
  },
  {
   "cell_type": "markdown",
   "metadata": {},
   "source": [
    "## Bar plot\n",
    "\n",
    "Otro estilo de gráfico muy habitual son los de barras. Ten en cuenta que:\n",
    "\n",
    "* Si representamos una variable en el eje x, y el eje y es el conteo, estamos hablando de [`countplot`](https://seaborn.pydata.org/generated/seaborn.countplot.html)\n",
    "* Si representamos una variable en el eje x y otra en el eje y, hablamos de [`barplot`](https://seaborn.pydata.org/generated/seaborn.barplot.html)"
   ]
  },
  {
   "cell_type": "code",
   "execution_count": null,
   "metadata": {},
   "outputs": [],
   "source": [
    "# Un countplot\n",
    "ax = sns.countplot(x='clarity', hue='cut', data=dat)"
   ]
  },
  {
   "cell_type": "code",
   "execution_count": null,
   "metadata": {},
   "outputs": [],
   "source": [
    "# un barplot sobre el precio medio\n",
    "avg_price = dat.groupby(['clarity', 'cut'], observed=True).price.mean().reset_index()\n",
    "out = sns.barplot(data=avg_price, x='clarity', y='price', hue='cut')"
   ]
  },
  {
   "cell_type": "markdown",
   "metadata": {},
   "source": [
    "## Histogramas / Conteos\n",
    "\n",
    "Para representar la distribución de una variable podemos usar:\n",
    "\n",
    "* [`histplot`](https://seaborn.pydata.org/generated/seaborn.histplot.html): para variables continuas.\n",
    "* [`countplot`](https://seaborn.pydata.org/generated/seaborn.countplot.html): para variables categóricas.\n",
    "\n",
    "Pasando como argumento la columna de interés."
   ]
  },
  {
   "cell_type": "code",
   "execution_count": null,
   "metadata": {},
   "outputs": [],
   "source": [
    "out = sns.histplot(dat.price, kde=True)"
   ]
  },
  {
   "cell_type": "markdown",
   "metadata": {},
   "source": [
    "#### Ejercicio\n",
    "\n",
    "* Lee los datos del economista (`dat/economist-countries-data.csv`), con indicadores de desarrollo y corrupción por países\n",
    "    * HDI: Human Development Index (1: más desarrollado)\n",
    "    * CPI: Corruption Perception Index (10: menos corrupto)\n",
    "* Crea un gráfico que:\n",
    "    * Cada país sea un punto\n",
    "    * El eje x indique CPI, el y HDI\n",
    "    * El color del punto indique la región\n",
    "    * Su tamaño sea proporcional al ranking HDI\n",
    "* ¿Qué conclusiones extraes del gráfico?"
   ]
  },
  {
   "cell_type": "code",
   "execution_count": null,
   "metadata": {},
   "outputs": [],
   "source": []
  },
  {
   "cell_type": "markdown",
   "metadata": {},
   "source": [
    "## Escalas\n",
    "\n",
    "Podemos cambiar la escala de los ejes:"
   ]
  },
  {
   "cell_type": "code",
   "execution_count": null,
   "metadata": {},
   "outputs": [],
   "source": [
    "out = sns.scatterplot(x='price', y='carat', data=dat)\n",
    "\n",
    "# Esta instrucción es de matplotlib, y altera el gráfico actual\n",
    "plt.xscale('log')"
   ]
  },
  {
   "cell_type": "markdown",
   "metadata": {},
   "source": [
    "#### Ejercicio\n",
    "\n",
    "Investiga cómo cambiar las paletas de colores por alguna de nuestra elección de [colorbrewer](http://colorbrewer2.org), y pinta dos scatterplots de precio vs quilates. Cada uno usará como color una propiedad diferente, que consideres de naturaleza secuencial y cualitativa respectivamente."
   ]
  },
  {
   "cell_type": "code",
   "execution_count": null,
   "metadata": {},
   "outputs": [],
   "source": []
  },
  {
   "cell_type": "code",
   "execution_count": null,
   "metadata": {},
   "outputs": [],
   "source": []
  },
  {
   "cell_type": "markdown",
   "metadata": {},
   "source": [
    "#### Ejercicio\n",
    "\n",
    "Investiga cómo cambiar las etiquetas de los ejes y el título global del gráfico. Hazlo sobre uno de tus gráficos."
   ]
  },
  {
   "cell_type": "code",
   "execution_count": null,
   "metadata": {},
   "outputs": [],
   "source": []
  },
  {
   "cell_type": "markdown",
   "metadata": {},
   "source": [
    "## Facets\n",
    "\n",
    "Los facets son composiciones de gráficos para comparar datos sobre distintas propiedades. [Aquí](https://seaborn.pydata.org/tutorial/axis_grids.html) tienes una buena referencia sobre cómo generarlos desde seaborn."
   ]
  },
  {
   "cell_type": "markdown",
   "metadata": {},
   "source": [
    "Podemos comprar todas nuestras variables numéricas rápidamente con `pairplot`. Opcionalmente, agrupando (coloreando) por alguna categórica:"
   ]
  },
  {
   "cell_type": "code",
   "execution_count": null,
   "metadata": {},
   "outputs": [],
   "source": [
    "out = sns.pairplot(dat, hue='cut')"
   ]
  },
  {
   "cell_type": "markdown",
   "metadata": {},
   "source": [
    "#### Ejercicio\n",
    "\n",
    "Investiga el uso de [`FacetGrid`](https://seaborn.pydata.org/tutorial/axis_grids.html) y pinta estos gráficos:\n",
    "\n",
    "* Los histogramas de `carat` por cada valor de `cut`.\n",
    "* Un scatterplot de `carat` en x frente a `price` en y, por cada valor de `cut`.\n",
    "* Un scatterplot de `carat` en x frente a `price` en y, por cada valor de `cut` y `clarity`."
   ]
  },
  {
   "cell_type": "code",
   "execution_count": null,
   "metadata": {},
   "outputs": [],
   "source": []
  },
  {
   "cell_type": "code",
   "execution_count": null,
   "metadata": {},
   "outputs": [],
   "source": []
  },
  {
   "cell_type": "code",
   "execution_count": null,
   "metadata": {},
   "outputs": [],
   "source": []
  }
 ],
 "metadata": {
  "kernelspec": {
   "display_name": "libropython",
   "language": "python",
   "name": "libropython"
  },
  "language_info": {
   "codemirror_mode": {
    "name": "ipython",
    "version": 3
   },
   "file_extension": ".py",
   "mimetype": "text/x-python",
   "name": "python",
   "nbconvert_exporter": "python",
   "pygments_lexer": "ipython3",
   "version": "3.12.1"
  }
 },
 "nbformat": 4,
 "nbformat_minor": 4
}
