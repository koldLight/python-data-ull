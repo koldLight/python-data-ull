{
 "cells": [
  {
   "cell_type": "code",
   "execution_count": null,
   "id": "91d3c842",
   "metadata": {},
   "outputs": [],
   "source": [
    "# setup en google colab\n",
    "# coméntalo y no lo ejecutes si lo tienes montado en local o en otro entorno\n",
    "!git clone https://github.com/koldLight/python-data-ull\n",
    "%cd python-data-ull"
   ]
  },
  {
   "cell_type": "markdown",
   "id": "4f78529f-cb31-4e67-88da-3c8358e61d64",
   "metadata": {},
   "source": [
    "# Visualización de datos\n",
    "\n",
    "## ¿Para qué sirve la visualización?\n",
    "\n",
    "Durante las asignaturas previas, has aprendido a manejar datos en tablas. A filtrarlos, agruparlos, sacar estadísticas, transformarlos... Pero una de las herramientas más potentes que tenemos para explorar y comunicar propiedades de nuestro dataset es la visualización.\n",
    "\n",
    "## ¿Qué elementos podemos utilizar en una visualización?\n",
    "\n",
    "En un gráfico tenemos marcadores (que pueden ser puntos, líneas o áreas) y propiedades. Estos tienen propiedades que podemos utilizar para mostrar de forma efectiva las características de los datos. Algunas de estas propiedades son:\n",
    "\n",
    "* La posición\n",
    "* El color\n",
    "* El tamaño\n",
    "* La forma\n",
    "\n",
    "## ¿Cómo hacer buenos gráficos?\n",
    "\n",
    "Aunque todo puede tener su excepción, en líneas generales podemos seguir una serie de recomendaciones en los gráficos que diseñemos.\n",
    "\n",
    "### No a la distorsión\n",
    "\n",
    "Los efectos 3D, los sombreados o decoración innecesaria de los gráficos hace más complicada la interpretación de los gráficos.\n",
    "\n",
    "Aquí un gráfico horrible que no nos transmite nada:\n",
    "\n",
    "![](images/banana.png)\n",
    "\n",
    "### No a los gráficos de sectores\n",
    "\n",
    "También conocidos como tartas / quesos (o su equivalente con agujero, el donut). El cerebro interpreta mucho mejor la diferencia relativa entre alturas que entre ángulos, por lo que es recomendable usar gráficos de barras en su lugar.\n",
    "\n",
    "Como ejemplo, mira estos dos gráficos: ambos representan la misma información, la producción por distrito. ¿Cuál entiendes mejor?\n",
    "\n",
    "![](images/pie_vs_bar.png)\n",
    "\n",
    "### La importancia del cero en el eje\n",
    "\n",
    "Hay dos formas habituales de representar el valor mínimo del eje (aquel dónde se cortan X e Y): poner el inicio en el cero de los datos, o en un valor cercano al mínimo. La primera opción sirve para, además contextualizar el tamaño de esos valores. La segunda se centra únicamente entre las diferencias relativas entre una y otra.\n",
    "\n",
    "![](images/zero.png)\n",
    "\n",
    "Es habitual encontrarnos con gráficos que nos intentar _mentir_ utilizando este truco, p.e. para exagerar las diferencias relativas entre dos datos sin ponerlos en contexto.\n",
    "\n",
    "> Lee el [siguiente artículo](https://en.wikipedia.org/wiki/Misleading_graph) sobre más recursos que suelen utilizar los _gráficos mentirosos_.\n",
    "\n",
    "### Elección de la escala\n",
    "\n",
    "La mayoría de nuestros datos tendrán una naturaleza lineal, pero en algunos casos nos encontraremos casos que necesiten de otras. P.e. la logarítmica es útil cuando los datos crecen exponencialmente y queremos apreciar las diferencias.\n",
    "\n",
    "![](images/log.jpg)\n",
    "\n",
    "> Fíjate en los valores del eje Y. ¿Qué pasaría si intentaras representar este mismo gráfico con una escala lineal?\n",
    "\n",
    "### Elección de la escalas de color\n",
    "\n",
    "Las escalas de color a utilizar en nuestro gráfico deben ser coherentes con la naturaleza de estos. Podemos distinguir los siguientes tres tipos:\n",
    "\n",
    "* Secuencial / contínua: refleja progresivamente las diferencias entre poco y mucho. Por ejemplo, los ingresos mensuales medios por barrio.\n",
    "* Divergente: tiene naturaleza secuencial, pero interesa destacar los extremos y el punto medio. Por ejemplo, el mapa de intención de voto demócrata vs republicano en EEUU.\n",
    "* Cualitativa: refleja categóricas sin orden. Por ejemplo, hombres vs mujeres.\n",
    "\n",
    "Es muy complicado elegir bien los colores concretos que componen una escala. Usa herramientas que ya las proporcionan, como [colorbrewer](http://colorbrewer2.org/).\n",
    "\n",
    "### Elección del tipo de gráfico\n",
    "\n",
    "Dependiendo de lo que queramos comunicar o analizar en el gráfico, utilizaremos un tipo u otro.\n",
    "\n",
    "![](images/chart_type.png)\n",
    "\n",
    "Algunos de los más comunes son:\n",
    "\n",
    "#### Gráficos de puntos\n",
    "\n",
    "Útiles para analizar la relación entre dos variables contínuas.\n",
    "\n",
    "![](images/scatterplot.jpg)\n",
    "\n",
    "#### Gráficos de líneas\n",
    "\n",
    "Se suelen usar para observar la evolución de un valor o su tendencia a lo largo del tiempo.\n",
    "\n",
    "![](images/lineplot.png)\n",
    "\n",
    "#### Gráficos de barras\n",
    "\n",
    "Los gráficos de barras suelen representar cantidades a comprar entre distintas categorías, periodos de tiempo u otra variable.\n",
    "\n",
    "![](images/barplot.jpg)\n",
    "\n",
    "Existen variaciones como:\n",
    "\n",
    "* Las barras apiladas, cuando el total también es relevante\n",
    "* Las barras apiladas al 100%, cuando lo que queremos analizar es la diferencia en la proporción\n",
    "\n",
    "![](images/stacked.jpg)\n",
    "\n",
    "![](images/stacked100.jpg)\n",
    "\n",
    "#### Histogramas\n",
    "\n",
    "Utilizados para observar la distribución de una determinada variable.\n",
    "\n",
    "![](images/bmi.svg)\n",
    "\n",
    "#### Boxplots\n",
    "\n",
    "Son comunes para ver la distribución de una variable en base a otra. Tienen varios elementos:\n",
    "\n",
    "* La línea central de la caja, indicando la mediana (o lo que es lo mismo, el cuartil 2, o percentil 50)\n",
    "* La línea inferior de la caja, indicando el cuartil 1 (equivalente al percentil 25).\n",
    "* La línea superior de la caja, para el cuartil 3 (equivalente al percentil 75).\n",
    "* Las barras, que llegan hasta el último valor dentro del rango intercuartílico (IQR)\n",
    "* Los puntos de los outliers, para aquellos valores que están más allá del IQR.\n",
    "\n",
    "El rango itercuartílico (IQR) es el valor del cuartil 3 menos el del cuartil 1.\n",
    "\n",
    "![](images/boxplot.png)"
   ]
  },
  {
   "cell_type": "markdown",
   "id": "050676ac-c8d8-4108-99f1-83bc571806c7",
   "metadata": {},
   "source": [
    "## Ejercicios\n",
    "\n",
    "Extrae las cosas que están haciendo mal los siguientes gráficos y propón una alternativa mejor.\n",
    "\n",
    "### Gráfico 1\n",
    "\n",
    "Extraído del Informe Reporta 2011, que evalúa la calidad de la información que sobre su actividad publican las empresas cotizadas en las bolsas españolas.\n",
    "\n",
    "![](images/graficaca_1.png)"
   ]
  },
  {
   "cell_type": "markdown",
   "id": "4b666dea-21bf-443f-b6eb-658bc97d49a1",
   "metadata": {},
   "source": []
  },
  {
   "cell_type": "markdown",
   "id": "70f47969-4b6d-425a-ad4b-7a2c504c93e1",
   "metadata": {},
   "source": [
    "### Gráfico 2\n",
    "\n",
    "Extraído de [una noticia de El Mundo](https://www.elmundo.es/grafico/economia/2015/03/15/5505ceb4268e3ea24c8b456e.html), muestra el IEH (impuesto de hidrocarburos) en diferentes CCAAs.\n",
    "\n",
    "![](images/graficaca_2.png)"
   ]
  },
  {
   "cell_type": "markdown",
   "id": "858e6262-dbc9-4753-915e-f51ec7dada2e",
   "metadata": {},
   "source": []
  },
  {
   "cell_type": "markdown",
   "id": "c5bc1da3-3470-43d5-90ba-4209dba67eb9",
   "metadata": {},
   "source": [
    "### Gráfico 3\n",
    "\n",
    "Extraído del telediario de RTVE sobre el paro.\n",
    "\n",
    "![](images/graficaca_3.jpg)"
   ]
  },
  {
   "cell_type": "markdown",
   "id": "38bfa82f-6745-41e9-a630-a4ef1b7278ec",
   "metadata": {},
   "source": []
  },
  {
   "cell_type": "markdown",
   "id": "2a3c7b6b-31cf-4921-9ed0-43eaf6cca71e",
   "metadata": {},
   "source": [
    "### Gráfico 4\n",
    "\n",
    "Extraído de un documento del CSIC.\n",
    "\n",
    "![](images/graficaca_4.png)"
   ]
  },
  {
   "cell_type": "markdown",
   "id": "25b05373-1dfb-4b04-8d37-63756ff38184",
   "metadata": {},
   "source": []
  },
  {
   "cell_type": "markdown",
   "id": "334f1a5c-d806-404d-811b-dc461a71de32",
   "metadata": {},
   "source": [
    "### Gráfico 5\n",
    "\n",
    "Extraído de una noticia de El Confidencial sobre ejecuciones hipotecarias.\n",
    "\n",
    "![](images/graficaca_5.jpg)"
   ]
  },
  {
   "cell_type": "markdown",
   "id": "51afe587-d85b-4987-ad15-e34fbec2387f",
   "metadata": {},
   "source": []
  },
  {
   "cell_type": "markdown",
   "id": "813ca9c6-7e55-4bc3-8aea-d0d85b5db42c",
   "metadata": {},
   "source": [
    "### Gráfico 6\n",
    "\n",
    "Extraído de [una noticia de nadaesgratis](https://nadaesgratis.es/santos/las-entidades-de-credito-y-los-prestamos-al-sector-publico-y-privado-un-grafico), un blog de economía.\n",
    "\n",
    "![](images/graficaca_6.gif)"
   ]
  },
  {
   "cell_type": "markdown",
   "id": "35cc62bd-bace-4f16-89a6-0224fca31e68",
   "metadata": {},
   "source": []
  },
  {
   "cell_type": "markdown",
   "id": "9bd30fac",
   "metadata": {
    "collapsed": true,
    "jupyter": {
     "outputs_hidden": true
    }
   },
   "source": [
    "# Librerías\n",
    "\n",
    "Existen varias librerías en Python para crear gráficos.  Algunas populares y sus utilidades principales son:\n",
    "\n",
    "* `matplotlib`: gráficos estáticos y básicos, interfaz de bajo nivel.\n",
    "* `pandas plot`: construido sobre matplotlib, simplifica la construcción de gráficos basados en DataFrames. Básicos.\n",
    "* `seaborn`: construido sobre matplotlib, proporciona una interfaz de más alto nivel.\n",
    "* `bokeh` / `plotly`: gráficos html, añadiendo cierto nivel de interacción.\n",
    "* `dash` / `streamlit`: para dashboards, con selectores y otros elementos de interacción."
   ]
  },
  {
   "cell_type": "markdown",
   "id": "d301bd96",
   "metadata": {},
   "source": [
    "# Una pequeña intro a gráficos dinámicos y frameworks para crear dashboards interactivos"
   ]
  },
  {
   "cell_type": "markdown",
   "id": "cc1857f2",
   "metadata": {},
   "source": [
    "### Plotly\n",
    "\n",
    "Plotly tiene `plotly.express`, que es más alto nivel y más básico, o `plotly` \"normal\".\n",
    "\n",
    "Vamos a pintar un gráfico con `plotly`. Un gráfico de líneas, una línea por distrito, que muestre la evolución año a año (filtra para quedarte sólo con el dato del primer cuatrimestre).\n",
    "\n",
    "Consulta [la documentación](https://plotly.com/python/line-charts/) como guía."
   ]
  },
  {
   "cell_type": "code",
   "execution_count": 3,
   "id": "8fed74c7",
   "metadata": {},
   "outputs": [],
   "source": [
    "import pandas as pd\n",
    "import plotly.express as px\n",
    "import plotly.io as pio\n",
    "\n",
    "# Esto es para que se renderice bien dentro de un notebook\n",
    "pio.renderers.default = 'iframe'"
   ]
  },
  {
   "cell_type": "code",
   "execution_count": 10,
   "id": "d9aff9f6",
   "metadata": {},
   "outputs": [
    {
     "data": {
      "text/html": [
       "<iframe\n",
       "    scrolling=\"no\"\n",
       "    width=\"100%\"\n",
       "    height=\"545px\"\n",
       "    src=\"iframe_figures/figure_10.html\"\n",
       "    frameborder=\"0\"\n",
       "    allowfullscreen\n",
       "></iframe>\n"
      ]
     },
     "metadata": {},
     "output_type": "display_data"
    }
   ],
   "source": [
    "df = pd.read_csv(\"dat/alquiler-madrid-distritos.csv\")\n",
    "df = data[data.quarter == 1]\n",
    "\n",
    "px.line(data, x=\"ano\", y=\"precio\", title=\"Evolución precios por distritos\", color=\"distrito\")"
   ]
  },
  {
   "cell_type": "markdown",
   "id": "37c9fcf4",
   "metadata": {},
   "source": [
    "## Dash y streamlit\n",
    "\n",
    "Son frameworks para construir aplicaciones web de análisis de datos.\n",
    "\n",
    "Dash usa React con Plotly para el frontend, y Flask para el backend, de forma transparente.\n",
    "\n",
    "Ambas herramientas nos permiten crear fácilmente dashboards complejos únicamente usando Python, sin necesidad de saber Javascript.\n",
    "\n",
    "Necesitan un servidor que corra la aplicación.\n",
    "\n",
    "Para ver ejemplos y más información, consulta la [web de Dash](https://plot.ly/products/dash/) y la de [streamlit](https://streamlit.io/)."
   ]
  },
  {
   "cell_type": "code",
   "execution_count": null,
   "id": "9f2a0e8a",
   "metadata": {},
   "outputs": [],
   "source": []
  }
 ],
 "metadata": {
  "kernelspec": {
   "display_name": "libropython",
   "language": "python",
   "name": "libropython"
  },
  "language_info": {
   "codemirror_mode": {
    "name": "ipython",
    "version": 3
   },
   "file_extension": ".py",
   "mimetype": "text/x-python",
   "name": "python",
   "nbconvert_exporter": "python",
   "pygments_lexer": "ipython3",
   "version": "3.12.1"
  }
 },
 "nbformat": 4,
 "nbformat_minor": 5
}
