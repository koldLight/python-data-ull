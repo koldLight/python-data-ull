{
 "cells": [
  {
   "cell_type": "code",
   "execution_count": null,
   "metadata": {},
   "outputs": [],
   "source": [
    "# setup en google colab\n",
    "# descoméntalo si estás en dicho entorno\n",
    "# !git clone https://github.com/koldLight/python-data-ull\n",
    "# %cd python-data-ull"
   ]
  },
  {
   "cell_type": "markdown",
   "metadata": {},
   "source": [
    "# Pivotación de tablas\n",
    "\n",
    "Vamos a ver cómo transformar las tablas de formato ancho a largo y viceversa"
   ]
  },
  {
   "cell_type": "code",
   "execution_count": null,
   "metadata": {},
   "outputs": [],
   "source": [
    "import pandas as pd"
   ]
  },
  {
   "cell_type": "code",
   "execution_count": null,
   "metadata": {},
   "outputs": [],
   "source": [
    "air = pd.read_csv(\"dat/airquality.csv\")\n",
    "air.head()"
   ]
  },
  {
   "cell_type": "markdown",
   "metadata": {},
   "source": [
    "## Melt: de ancho a largo\n",
    "\n",
    "Para pasar de formato ancho a largo, podemos usar [`melt`](https://pandas.pydata.org/pandas-docs/version/0.23/generated/pandas.melt.html)"
   ]
  },
  {
   "cell_type": "code",
   "execution_count": null,
   "metadata": {},
   "outputs": [],
   "source": [
    "air_long = air.melt(id_vars=['month', 'day'])\n",
    "air_long.head()"
   ]
  },
  {
   "cell_type": "code",
   "execution_count": null,
   "metadata": {},
   "outputs": [],
   "source": [
    "len(air_long)"
   ]
  },
  {
   "cell_type": "markdown",
   "metadata": {},
   "source": [
    "Vemos que, para cada mes y día, ahora contamos con dos columnas: la variable medida y su valor.\n",
    "\n",
    "En el formato largo, cada fila cuenta con el índice (en este caso, mes y día), un valor, y etiquetas del valor."
   ]
  },
  {
   "cell_type": "markdown",
   "metadata": {},
   "source": [
    "## Pivot: de largo a ancho\n",
    "\n",
    "Para pasar de formato largo a ancho, podemos usar [`pivot_table`](https://pandas.pydata.org/pandas-docs/stable/reference/api/pandas.pivot_table.html)"
   ]
  },
  {
   "cell_type": "code",
   "execution_count": null,
   "metadata": {},
   "outputs": [],
   "source": [
    "air_wide = air_long.pivot_table(index=['month', 'day'], columns='variable', values='value')\n",
    "air_wide.head()"
   ]
  },
  {
   "cell_type": "markdown",
   "metadata": {},
   "source": [
    "Los índices jerárquicos suelen ser incómodos para tratar la tabla. Podemos quitarlo con `reset_index()`"
   ]
  },
  {
   "cell_type": "code",
   "execution_count": null,
   "metadata": {},
   "outputs": [],
   "source": [
    "air_wide = air_wide.reset_index()\n",
    "air_wide.head()"
   ]
  },
  {
   "cell_type": "code",
   "execution_count": null,
   "metadata": {},
   "outputs": [],
   "source": [
    "# Si además queremos quitar el nombre \"feo\" que se ha quedado como nombre de las columnas...\n",
    "air_wide.columns.name = ''\n",
    "air_wide.head()"
   ]
  },
  {
   "cell_type": "markdown",
   "metadata": {},
   "source": [
    "#### Ejercicio\n",
    "\n",
    "Investiga y cambia los nombres de las columnas resultantes (variable y value) por otros que consideres adecuados, durante el proceso de `melt`."
   ]
  },
  {
   "cell_type": "code",
   "execution_count": null,
   "metadata": {},
   "outputs": [],
   "source": []
  },
  {
   "cell_type": "markdown",
   "metadata": {},
   "source": [
    "#### Ejercicio\n",
    "\n",
    "La función [`pivot_table`](https://pandas.pydata.org/pandas-docs/stable/reference/api/pandas.pivot_table.html) permite agregar si hay más de un valor por cada fila (es decir, parejas de índice + variable duplicadas).\n",
    "\n",
    "Aprovecha esta utilidad para, en el paso de `air_long` a ancho, calcular la mediana por variable por mes."
   ]
  },
  {
   "cell_type": "code",
   "execution_count": null,
   "metadata": {},
   "outputs": [],
   "source": []
  },
  {
   "cell_type": "markdown",
   "metadata": {},
   "source": [
    "#### Ejemplo del mundo real\n",
    "\n",
    "Examina los datos contenidos en el fichero `dat/contaminacion_mad_201812.csv`, y mira qué aspecto tiene. Nuestro objetivo es dejarlo en formato largo, y quedarnos únicamente con los días con una medida válida.\n",
    "\n",
    "Para hacerlo, podemos dividir el problema en los siguientes pasos:\n",
    "\n",
    "* A partir de ese dataframe, crear dos nuevos:\n",
    "\n",
    "    * Uno con el índice + las columnas con los valores (D01, ..., D31)\n",
    "    * Otro con el índice + las columnas con la validez (V01, ..., V31)\n",
    "\n",
    "* Pasar ambos a formato largo. Es decir, queremos tener una columna `dia` y otra `validez` y que los valores pasen a ser filas, en lugar de tener 31 columnas. El día debe quedar como numérico en ambas tablas.\n",
    "* Cruzar los resultados, para tener en el mismo dataframe valor y validez.\n",
    "* Limpiar la fecha, para tenerla como `date`.\n",
    "* Castear la validez a booleano (True / False)."
   ]
  },
  {
   "cell_type": "code",
   "execution_count": null,
   "metadata": {},
   "outputs": [],
   "source": [
    "dat = pd.read_csv(\"dat/contaminacion_mad_201812.csv\", sep=\";\")\n",
    "dat.head()"
   ]
  },
  {
   "cell_type": "code",
   "execution_count": null,
   "metadata": {},
   "outputs": [],
   "source": [
    "# Separando en dos dataframes\n",
    "# Uno con el índice + las columnas con los valores (D01, ..., D31)\n",
    "# Otro con el índice + las columnas con la validez (V01, ..., V31)\n",
    "cols_indice = list(dat.columns[:7])\n",
    "cols_valores = list(dat.columns[7::2])\n",
    "cols_validez = list(dat.columns[8::2])\n",
    "\n",
    "dat_valores = dat[cols_indice + cols_valores]\n",
    "dat_validez = dat[cols_indice + cols_validez]\n",
    "dat_validez.head()"
   ]
  },
  {
   "cell_type": "code",
   "execution_count": null,
   "metadata": {},
   "outputs": [],
   "source": [
    "# Pasamos a formato largo\n",
    "dat_valores_largo = dat_valores.melt(id_vars=cols_indice, var_name='DIA', value_name='VALOR')\n",
    "dat_validez_largo = dat_validez.melt(id_vars=cols_indice, var_name='DIA', value_name='VALIDEZ')\n",
    "\n",
    "# Queremos convertir D01, ... y V01, ... a 1..31\n",
    "dat_valores_largo[\"DIA\"] = dat_valores_largo[\"DIA\"].str.replace('D', '').astype(int)\n",
    "dat_validez_largo[\"DIA\"] = dat_validez_largo[\"DIA\"].str.replace('V', '').astype(int)\n",
    "dat_valores_largo.head()"
   ]
  },
  {
   "cell_type": "code",
   "execution_count": null,
   "metadata": {},
   "outputs": [],
   "source": [
    "# Cruzamos ambos dataframe para tenerlo todo en el mismo\n",
    "dat_largo = dat_valores_largo.merge(dat_validez_largo)\n",
    "dat_largo.head()"
   ]
  },
  {
   "cell_type": "code",
   "execution_count": null,
   "metadata": {},
   "outputs": [],
   "source": [
    "from datetime import date\n",
    "\n",
    "# Creación de la fecha\n",
    "# Como hay fechas que no existen como 30-feb, encapsulo en try / except\n",
    "def try_create_date(fila):\n",
    "    try:\n",
    "        return date(fila.ANO, fila.MES, fila.DIA)\n",
    "    except:\n",
    "        return None\n",
    "\n",
    "# Crear una columna de fecha (date)\n",
    "dat_largo[\"FECHA\"] = dat_largo.apply(try_create_date, axis=1)\n",
    "\n",
    "# Y ahora elimino las fechas None (esos 30-feb, etc)\n",
    "dat_largo = dat_largo[~dat_largo.FECHA.isnull()].copy()\n",
    "\n",
    "# Casting de VALIDEZ a boolean\n",
    "dat_largo[\"VALIDEZ\"] = dat_largo[\"VALIDEZ\"] == \"V\"\n",
    "dat_largo.head()"
   ]
  },
  {
   "cell_type": "code",
   "execution_count": null,
   "metadata": {},
   "outputs": [],
   "source": [
    "# Podríamos querer guardar el resultado ya limpio\n",
    "# dat_largo.to_csv(\"contaminacion_limpio.csv\")"
   ]
  },
  {
   "cell_type": "markdown",
   "metadata": {},
   "source": [
    "#### Referencia\n",
    "\n",
    "Puedes consultar la guía completa de pandas sobre pivotación [aquí](http://pandas.pydata.org/pandas-docs/stable/user_guide/reshaping.html)"
   ]
  },
  {
   "cell_type": "code",
   "execution_count": null,
   "metadata": {},
   "outputs": [],
   "source": []
  }
 ],
 "metadata": {
  "kernelspec": {
   "display_name": "libropython",
   "language": "python",
   "name": "libropython"
  },
  "language_info": {
   "codemirror_mode": {
    "name": "ipython",
    "version": 3
   },
   "file_extension": ".py",
   "mimetype": "text/x-python",
   "name": "python",
   "nbconvert_exporter": "python",
   "pygments_lexer": "ipython3",
   "version": "3.12.1"
  }
 },
 "nbformat": 4,
 "nbformat_minor": 4
}
